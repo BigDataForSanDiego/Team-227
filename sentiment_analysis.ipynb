{
 "cells": [
  {
   "cell_type": "code",
   "execution_count": 3,
   "metadata": {},
   "outputs": [],
   "source": [
    "import pandas as pd\n",
    "import numpy as np\n",
    "import re\n",
    "from nltk.corpus import stopwords\n",
    "from nltk.stem import PorterStemmer\n",
    "from sklearn.feature_extraction.text import TfidfVectorizer\n",
    "from sklearn.model_selection import train_test_split\n",
    "from sklearn.linear_model import LogisticRegression"
   ]
  },
  {
   "cell_type": "code",
   "execution_count": 4,
   "metadata": {},
   "outputs": [
    {
     "name": "stderr",
     "output_type": "stream",
     "text": [
      "[nltk_data] Downloading package stopwords to\n",
      "[nltk_data]     /Users/tobyzhang/nltk_data...\n",
      "[nltk_data]   Package stopwords is already up-to-date!\n"
     ]
    },
    {
     "data": {
      "text/plain": [
       "True"
      ]
     },
     "execution_count": 4,
     "metadata": {},
     "output_type": "execute_result"
    }
   ],
   "source": [
    "import nltk\n",
    "nltk.download('stopwords')"
   ]
  },
  {
   "cell_type": "code",
   "execution_count": 4,
   "metadata": {},
   "outputs": [
    {
     "name": "stdout",
     "output_type": "stream",
     "text": [
      "['i', 'me', 'my', 'myself', 'we', 'our', 'ours', 'ourselves', 'you', \"you're\", \"you've\", \"you'll\", \"you'd\", 'your', 'yours', 'yourself', 'yourselves', 'he', 'him', 'his', 'himself', 'she', \"she's\", 'her', 'hers', 'herself', 'it', \"it's\", 'its', 'itself', 'they', 'them', 'their', 'theirs', 'themselves', 'what', 'which', 'who', 'whom', 'this', 'that', \"that'll\", 'these', 'those', 'am', 'is', 'are', 'was', 'were', 'be', 'been', 'being', 'have', 'has', 'had', 'having', 'do', 'does', 'did', 'doing', 'a', 'an', 'the', 'and', 'but', 'if', 'or', 'because', 'as', 'until', 'while', 'of', 'at', 'by', 'for', 'with', 'about', 'against', 'between', 'into', 'through', 'during', 'before', 'after', 'above', 'below', 'to', 'from', 'up', 'down', 'in', 'out', 'on', 'off', 'over', 'under', 'again', 'further', 'then', 'once', 'here', 'there', 'when', 'where', 'why', 'how', 'all', 'any', 'both', 'each', 'few', 'more', 'most', 'other', 'some', 'such', 'no', 'nor', 'not', 'only', 'own', 'same', 'so', 'than', 'too', 'very', 's', 't', 'can', 'will', 'just', 'don', \"don't\", 'should', \"should've\", 'now', 'd', 'll', 'm', 'o', 're', 've', 'y', 'ain', 'aren', \"aren't\", 'couldn', \"couldn't\", 'didn', \"didn't\", 'doesn', \"doesn't\", 'hadn', \"hadn't\", 'hasn', \"hasn't\", 'haven', \"haven't\", 'isn', \"isn't\", 'ma', 'mightn', \"mightn't\", 'mustn', \"mustn't\", 'needn', \"needn't\", 'shan', \"shan't\", 'shouldn', \"shouldn't\", 'wasn', \"wasn't\", 'weren', \"weren't\", 'won', \"won't\", 'wouldn', \"wouldn't\"]\n"
     ]
    }
   ],
   "source": [
    "print(stopwords.words('english'))"
   ]
  },
  {
   "cell_type": "code",
   "execution_count": 5,
   "metadata": {},
   "outputs": [
    {
     "data": {
      "text/html": [
       "<div>\n",
       "<style scoped>\n",
       "    .dataframe tbody tr th:only-of-type {\n",
       "        vertical-align: middle;\n",
       "    }\n",
       "\n",
       "    .dataframe tbody tr th {\n",
       "        vertical-align: top;\n",
       "    }\n",
       "\n",
       "    .dataframe thead th {\n",
       "        text-align: right;\n",
       "    }\n",
       "</style>\n",
       "<table border=\"1\" class=\"dataframe\">\n",
       "  <thead>\n",
       "    <tr style=\"text-align: right;\">\n",
       "      <th></th>\n",
       "      <th>Facility ID</th>\n",
       "      <th>Facility Name</th>\n",
       "      <th>Address</th>\n",
       "      <th>City/Town</th>\n",
       "      <th>State</th>\n",
       "      <th>ZIP Code</th>\n",
       "      <th>County/Parish</th>\n",
       "      <th>Telephone Number</th>\n",
       "      <th>HCAHPS Measure ID</th>\n",
       "      <th>HCAHPS Question</th>\n",
       "      <th>...</th>\n",
       "      <th>Patient Survey Star Rating Footnote</th>\n",
       "      <th>HCAHPS Answer Percent</th>\n",
       "      <th>HCAHPS Answer Percent Footnote</th>\n",
       "      <th>HCAHPS Linear Mean Value</th>\n",
       "      <th>Number of Completed Surveys</th>\n",
       "      <th>Number of Completed Surveys Footnote</th>\n",
       "      <th>Survey Response Rate Percent</th>\n",
       "      <th>Survey Response Rate Percent Footnote</th>\n",
       "      <th>Start Date</th>\n",
       "      <th>End Date</th>\n",
       "    </tr>\n",
       "  </thead>\n",
       "  <tbody>\n",
       "    <tr>\n",
       "      <th>0</th>\n",
       "      <td>050002</td>\n",
       "      <td>ST ROSE HOSPITAL</td>\n",
       "      <td>27200 CALAROGA AVE</td>\n",
       "      <td>HAYWARD</td>\n",
       "      <td>CA</td>\n",
       "      <td>94545</td>\n",
       "      <td>ALAMEDA</td>\n",
       "      <td>(510) 782-6200</td>\n",
       "      <td>H_COMP_1_A_P</td>\n",
       "      <td>Patients who reported that their nurses \"Alway...</td>\n",
       "      <td>...</td>\n",
       "      <td>NaN</td>\n",
       "      <td>72</td>\n",
       "      <td>28.0</td>\n",
       "      <td>Not Applicable</td>\n",
       "      <td>397</td>\n",
       "      <td>28.0</td>\n",
       "      <td>23</td>\n",
       "      <td>28.0</td>\n",
       "      <td>10/01/2022</td>\n",
       "      <td>09/30/2023</td>\n",
       "    </tr>\n",
       "    <tr>\n",
       "      <th>1</th>\n",
       "      <td>050002</td>\n",
       "      <td>ST ROSE HOSPITAL</td>\n",
       "      <td>27200 CALAROGA AVE</td>\n",
       "      <td>HAYWARD</td>\n",
       "      <td>CA</td>\n",
       "      <td>94545</td>\n",
       "      <td>ALAMEDA</td>\n",
       "      <td>(510) 782-6200</td>\n",
       "      <td>H_COMP_1_SN_P</td>\n",
       "      <td>Patients who reported that their nurses \"Somet...</td>\n",
       "      <td>...</td>\n",
       "      <td>NaN</td>\n",
       "      <td>8</td>\n",
       "      <td>28.0</td>\n",
       "      <td>Not Applicable</td>\n",
       "      <td>397</td>\n",
       "      <td>28.0</td>\n",
       "      <td>23</td>\n",
       "      <td>28.0</td>\n",
       "      <td>10/01/2022</td>\n",
       "      <td>09/30/2023</td>\n",
       "    </tr>\n",
       "    <tr>\n",
       "      <th>2</th>\n",
       "      <td>050002</td>\n",
       "      <td>ST ROSE HOSPITAL</td>\n",
       "      <td>27200 CALAROGA AVE</td>\n",
       "      <td>HAYWARD</td>\n",
       "      <td>CA</td>\n",
       "      <td>94545</td>\n",
       "      <td>ALAMEDA</td>\n",
       "      <td>(510) 782-6200</td>\n",
       "      <td>H_COMP_1_U_P</td>\n",
       "      <td>Patients who reported that their nurses \"Usual...</td>\n",
       "      <td>...</td>\n",
       "      <td>NaN</td>\n",
       "      <td>20</td>\n",
       "      <td>28.0</td>\n",
       "      <td>Not Applicable</td>\n",
       "      <td>397</td>\n",
       "      <td>28.0</td>\n",
       "      <td>23</td>\n",
       "      <td>28.0</td>\n",
       "      <td>10/01/2022</td>\n",
       "      <td>09/30/2023</td>\n",
       "    </tr>\n",
       "    <tr>\n",
       "      <th>3</th>\n",
       "      <td>050002</td>\n",
       "      <td>ST ROSE HOSPITAL</td>\n",
       "      <td>27200 CALAROGA AVE</td>\n",
       "      <td>HAYWARD</td>\n",
       "      <td>CA</td>\n",
       "      <td>94545</td>\n",
       "      <td>ALAMEDA</td>\n",
       "      <td>(510) 782-6200</td>\n",
       "      <td>H_COMP_1_LINEAR_SCORE</td>\n",
       "      <td>Nurse communication - linear mean score</td>\n",
       "      <td>...</td>\n",
       "      <td>NaN</td>\n",
       "      <td>Not Applicable</td>\n",
       "      <td>NaN</td>\n",
       "      <td>88</td>\n",
       "      <td>397</td>\n",
       "      <td>28.0</td>\n",
       "      <td>23</td>\n",
       "      <td>28.0</td>\n",
       "      <td>10/01/2022</td>\n",
       "      <td>09/30/2023</td>\n",
       "    </tr>\n",
       "    <tr>\n",
       "      <th>4</th>\n",
       "      <td>050002</td>\n",
       "      <td>ST ROSE HOSPITAL</td>\n",
       "      <td>27200 CALAROGA AVE</td>\n",
       "      <td>HAYWARD</td>\n",
       "      <td>CA</td>\n",
       "      <td>94545</td>\n",
       "      <td>ALAMEDA</td>\n",
       "      <td>(510) 782-6200</td>\n",
       "      <td>H_COMP_1_STAR_RATING</td>\n",
       "      <td>Nurse communication - star rating</td>\n",
       "      <td>...</td>\n",
       "      <td>NaN</td>\n",
       "      <td>Not Applicable</td>\n",
       "      <td>NaN</td>\n",
       "      <td>Not Applicable</td>\n",
       "      <td>397</td>\n",
       "      <td>28.0</td>\n",
       "      <td>23</td>\n",
       "      <td>28.0</td>\n",
       "      <td>10/01/2022</td>\n",
       "      <td>09/30/2023</td>\n",
       "    </tr>\n",
       "  </tbody>\n",
       "</table>\n",
       "<p>5 rows × 22 columns</p>\n",
       "</div>"
      ],
      "text/plain": [
       "  Facility ID     Facility Name             Address City/Town State  ZIP Code  \\\n",
       "0      050002  ST ROSE HOSPITAL  27200 CALAROGA AVE   HAYWARD    CA     94545   \n",
       "1      050002  ST ROSE HOSPITAL  27200 CALAROGA AVE   HAYWARD    CA     94545   \n",
       "2      050002  ST ROSE HOSPITAL  27200 CALAROGA AVE   HAYWARD    CA     94545   \n",
       "3      050002  ST ROSE HOSPITAL  27200 CALAROGA AVE   HAYWARD    CA     94545   \n",
       "4      050002  ST ROSE HOSPITAL  27200 CALAROGA AVE   HAYWARD    CA     94545   \n",
       "\n",
       "  County/Parish Telephone Number      HCAHPS Measure ID  \\\n",
       "0       ALAMEDA   (510) 782-6200           H_COMP_1_A_P   \n",
       "1       ALAMEDA   (510) 782-6200          H_COMP_1_SN_P   \n",
       "2       ALAMEDA   (510) 782-6200           H_COMP_1_U_P   \n",
       "3       ALAMEDA   (510) 782-6200  H_COMP_1_LINEAR_SCORE   \n",
       "4       ALAMEDA   (510) 782-6200   H_COMP_1_STAR_RATING   \n",
       "\n",
       "                                     HCAHPS Question  ...  \\\n",
       "0  Patients who reported that their nurses \"Alway...  ...   \n",
       "1  Patients who reported that their nurses \"Somet...  ...   \n",
       "2  Patients who reported that their nurses \"Usual...  ...   \n",
       "3            Nurse communication - linear mean score  ...   \n",
       "4                  Nurse communication - star rating  ...   \n",
       "\n",
       "  Patient Survey Star Rating Footnote HCAHPS Answer Percent  \\\n",
       "0                                 NaN                    72   \n",
       "1                                 NaN                     8   \n",
       "2                                 NaN                    20   \n",
       "3                                 NaN        Not Applicable   \n",
       "4                                 NaN        Not Applicable   \n",
       "\n",
       "   HCAHPS Answer Percent Footnote HCAHPS Linear Mean Value  \\\n",
       "0                            28.0           Not Applicable   \n",
       "1                            28.0           Not Applicable   \n",
       "2                            28.0           Not Applicable   \n",
       "3                             NaN                       88   \n",
       "4                             NaN           Not Applicable   \n",
       "\n",
       "   Number of Completed Surveys Number of Completed Surveys Footnote  \\\n",
       "0                          397                                 28.0   \n",
       "1                          397                                 28.0   \n",
       "2                          397                                 28.0   \n",
       "3                          397                                 28.0   \n",
       "4                          397                                 28.0   \n",
       "\n",
       "  Survey Response Rate Percent  Survey Response Rate Percent Footnote  \\\n",
       "0                           23                                   28.0   \n",
       "1                           23                                   28.0   \n",
       "2                           23                                   28.0   \n",
       "3                           23                                   28.0   \n",
       "4                           23                                   28.0   \n",
       "\n",
       "   Start Date    End Date  \n",
       "0  10/01/2022  09/30/2023  \n",
       "1  10/01/2022  09/30/2023  \n",
       "2  10/01/2022  09/30/2023  \n",
       "3  10/01/2022  09/30/2023  \n",
       "4  10/01/2022  09/30/2023  \n",
       "\n",
       "[5 rows x 22 columns]"
      ]
     },
     "execution_count": 5,
     "metadata": {},
     "output_type": "execute_result"
    }
   ],
   "source": [
    "dataset = pd.read_csv('Patient Survey HCAHPS California.csv', encoding= \"ISO-8859-1\")\n",
    "\n",
    "dataset.head()\n"
   ]
  },
  {
   "cell_type": "code",
   "execution_count": 6,
   "metadata": {},
   "outputs": [
    {
     "data": {
      "text/plain": [
       "'Patients who reported that their nurses \"Always\" communicated well'"
      ]
     },
     "execution_count": 6,
     "metadata": {},
     "output_type": "execute_result"
    }
   ],
   "source": [
    "dataset.get('HCAHPS Question').iloc[0]"
   ]
  },
  {
   "cell_type": "code",
   "execution_count": 13,
   "metadata": {},
   "outputs": [],
   "source": [
    "from textblob import TextBlob"
   ]
  },
  {
   "cell_type": "code",
   "execution_count": null,
   "metadata": {},
   "outputs": [],
   "source": []
  }
 ],
 "metadata": {
  "kernelspec": {
   "display_name": "base",
   "language": "python",
   "name": "python3"
  },
  "language_info": {
   "codemirror_mode": {
    "name": "ipython",
    "version": 3
   },
   "file_extension": ".py",
   "mimetype": "text/x-python",
   "name": "python",
   "nbconvert_exporter": "python",
   "pygments_lexer": "ipython3",
   "version": "3.12.4"
  }
 },
 "nbformat": 4,
 "nbformat_minor": 2
}
